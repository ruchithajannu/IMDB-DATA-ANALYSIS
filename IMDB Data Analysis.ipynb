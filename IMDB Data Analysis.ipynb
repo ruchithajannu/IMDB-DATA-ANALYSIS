{
 "cells": [
  {
   "cell_type": "code",
   "execution_count": 2,
   "id": "9b37f863",
   "metadata": {},
   "outputs": [
    {
     "data": {
      "text/plain": [
       "Index(['tconst', 'averageRating', 'numVotes'], dtype='object')"
      ]
     },
     "execution_count": 2,
     "metadata": {},
     "output_type": "execute_result"
    }
   ],
   "source": [
    "import pandas as pd\n",
    "\n",
    "# Load the TSV dataset into a DataFrame\n",
    "df = pd.read_csv('C:\\\\Users\\\\Ruchitha Jannu\\\\Downloads\\\\data.csv')\n",
    "df.columns"
   ]
  },
  {
   "cell_type": "code",
   "execution_count": 12,
   "id": "e39c10af",
   "metadata": {},
   "outputs": [],
   "source": [
    "df['tconst'] = df['tconst'].str.replace('tt', '') # replace the values with tt0000001 to 0000001"
   ]
  },
  {
   "cell_type": "code",
   "execution_count": 13,
   "id": "89c2524a",
   "metadata": {},
   "outputs": [],
   "source": [
    "df.rename(columns={'tconst':'const'},inplace = True) #rename the column tconst to const"
   ]
  },
  {
   "cell_type": "code",
   "execution_count": 14,
   "id": "2b043741",
   "metadata": {},
   "outputs": [
    {
     "data": {
      "text/html": [
       "<div>\n",
       "<style scoped>\n",
       "    .dataframe tbody tr th:only-of-type {\n",
       "        vertical-align: middle;\n",
       "    }\n",
       "\n",
       "    .dataframe tbody tr th {\n",
       "        vertical-align: top;\n",
       "    }\n",
       "\n",
       "    .dataframe thead th {\n",
       "        text-align: right;\n",
       "    }\n",
       "</style>\n",
       "<table border=\"1\" class=\"dataframe\">\n",
       "  <thead>\n",
       "    <tr style=\"text-align: right;\">\n",
       "      <th></th>\n",
       "      <th>const</th>\n",
       "      <th>averageRating</th>\n",
       "      <th>numVotes</th>\n",
       "    </tr>\n",
       "  </thead>\n",
       "  <tbody>\n",
       "  </tbody>\n",
       "</table>\n",
       "</div>"
      ],
      "text/plain": [
       "Empty DataFrame\n",
       "Columns: [const, averageRating, numVotes]\n",
       "Index: []"
      ]
     },
     "execution_count": 14,
     "metadata": {},
     "output_type": "execute_result"
    }
   ],
   "source": [
    "df[df.isnull().any(axis=1)] # check if there are any null values"
   ]
  },
  {
   "cell_type": "code",
   "execution_count": 15,
   "id": "60c903bf",
   "metadata": {},
   "outputs": [
    {
     "data": {
      "text/plain": [
       "const            0\n",
       "averageRating    0\n",
       "numVotes         0\n",
       "dtype: int64"
      ]
     },
     "execution_count": 15,
     "metadata": {},
     "output_type": "execute_result"
    }
   ],
   "source": [
    "df.isnull().sum() # check if there are any null values"
   ]
  },
  {
   "cell_type": "code",
   "execution_count": 16,
   "id": "4eb2b887",
   "metadata": {},
   "outputs": [
    {
     "data": {
      "text/html": [
       "<div>\n",
       "<style scoped>\n",
       "    .dataframe tbody tr th:only-of-type {\n",
       "        vertical-align: middle;\n",
       "    }\n",
       "\n",
       "    .dataframe tbody tr th {\n",
       "        vertical-align: top;\n",
       "    }\n",
       "\n",
       "    .dataframe thead th {\n",
       "        text-align: right;\n",
       "    }\n",
       "</style>\n",
       "<table border=\"1\" class=\"dataframe\">\n",
       "  <thead>\n",
       "    <tr style=\"text-align: right;\">\n",
       "      <th></th>\n",
       "      <th>const</th>\n",
       "      <th>averageRating</th>\n",
       "      <th>numVotes</th>\n",
       "    </tr>\n",
       "  </thead>\n",
       "  <tbody>\n",
       "    <tr>\n",
       "      <th>0</th>\n",
       "      <td>0000001</td>\n",
       "      <td>5.7</td>\n",
       "      <td>1983</td>\n",
       "    </tr>\n",
       "    <tr>\n",
       "      <th>1</th>\n",
       "      <td>0000002</td>\n",
       "      <td>5.8</td>\n",
       "      <td>265</td>\n",
       "    </tr>\n",
       "    <tr>\n",
       "      <th>2</th>\n",
       "      <td>0000003</td>\n",
       "      <td>6.5</td>\n",
       "      <td>1840</td>\n",
       "    </tr>\n",
       "    <tr>\n",
       "      <th>3</th>\n",
       "      <td>0000004</td>\n",
       "      <td>5.5</td>\n",
       "      <td>178</td>\n",
       "    </tr>\n",
       "    <tr>\n",
       "      <th>4</th>\n",
       "      <td>0000005</td>\n",
       "      <td>6.2</td>\n",
       "      <td>2623</td>\n",
       "    </tr>\n",
       "    <tr>\n",
       "      <th>...</th>\n",
       "      <td>...</td>\n",
       "      <td>...</td>\n",
       "      <td>...</td>\n",
       "    </tr>\n",
       "    <tr>\n",
       "      <th>1326233</th>\n",
       "      <td>9916730</td>\n",
       "      <td>8.3</td>\n",
       "      <td>10</td>\n",
       "    </tr>\n",
       "    <tr>\n",
       "      <th>1326234</th>\n",
       "      <td>9916766</td>\n",
       "      <td>7.0</td>\n",
       "      <td>21</td>\n",
       "    </tr>\n",
       "    <tr>\n",
       "      <th>1326235</th>\n",
       "      <td>9916778</td>\n",
       "      <td>7.2</td>\n",
       "      <td>36</td>\n",
       "    </tr>\n",
       "    <tr>\n",
       "      <th>1326236</th>\n",
       "      <td>9916840</td>\n",
       "      <td>7.5</td>\n",
       "      <td>7</td>\n",
       "    </tr>\n",
       "    <tr>\n",
       "      <th>1326237</th>\n",
       "      <td>9916880</td>\n",
       "      <td>7.0</td>\n",
       "      <td>7</td>\n",
       "    </tr>\n",
       "  </tbody>\n",
       "</table>\n",
       "<p>1326238 rows × 3 columns</p>\n",
       "</div>"
      ],
      "text/plain": [
       "           const  averageRating  numVotes\n",
       "0        0000001            5.7      1983\n",
       "1        0000002            5.8       265\n",
       "2        0000003            6.5      1840\n",
       "3        0000004            5.5       178\n",
       "4        0000005            6.2      2623\n",
       "...          ...            ...       ...\n",
       "1326233  9916730            8.3        10\n",
       "1326234  9916766            7.0        21\n",
       "1326235  9916778            7.2        36\n",
       "1326236  9916840            7.5         7\n",
       "1326237  9916880            7.0         7\n",
       "\n",
       "[1326238 rows x 3 columns]"
      ]
     },
     "execution_count": 16,
     "metadata": {},
     "output_type": "execute_result"
    }
   ],
   "source": [
    "df"
   ]
  },
  {
   "cell_type": "code",
   "execution_count": 17,
   "id": "56c06826",
   "metadata": {},
   "outputs": [
    {
     "data": {
      "text/html": [
       "<div>\n",
       "<style scoped>\n",
       "    .dataframe tbody tr th:only-of-type {\n",
       "        vertical-align: middle;\n",
       "    }\n",
       "\n",
       "    .dataframe tbody tr th {\n",
       "        vertical-align: top;\n",
       "    }\n",
       "\n",
       "    .dataframe thead th {\n",
       "        text-align: right;\n",
       "    }\n",
       "</style>\n",
       "<table border=\"1\" class=\"dataframe\">\n",
       "  <thead>\n",
       "    <tr style=\"text-align: right;\">\n",
       "      <th></th>\n",
       "      <th>averageRating</th>\n",
       "      <th>numVotes</th>\n",
       "    </tr>\n",
       "  </thead>\n",
       "  <tbody>\n",
       "    <tr>\n",
       "      <th>count</th>\n",
       "      <td>1.326238e+06</td>\n",
       "      <td>1.326238e+06</td>\n",
       "    </tr>\n",
       "    <tr>\n",
       "      <th>mean</th>\n",
       "      <td>6.954723e+00</td>\n",
       "      <td>1.038466e+03</td>\n",
       "    </tr>\n",
       "    <tr>\n",
       "      <th>std</th>\n",
       "      <td>1.382464e+00</td>\n",
       "      <td>1.747237e+04</td>\n",
       "    </tr>\n",
       "    <tr>\n",
       "      <th>min</th>\n",
       "      <td>1.000000e+00</td>\n",
       "      <td>5.000000e+00</td>\n",
       "    </tr>\n",
       "    <tr>\n",
       "      <th>25%</th>\n",
       "      <td>6.200000e+00</td>\n",
       "      <td>1.100000e+01</td>\n",
       "    </tr>\n",
       "    <tr>\n",
       "      <th>50%</th>\n",
       "      <td>7.100000e+00</td>\n",
       "      <td>2.600000e+01</td>\n",
       "    </tr>\n",
       "    <tr>\n",
       "      <th>75%</th>\n",
       "      <td>7.900000e+00</td>\n",
       "      <td>1.010000e+02</td>\n",
       "    </tr>\n",
       "    <tr>\n",
       "      <th>max</th>\n",
       "      <td>1.000000e+01</td>\n",
       "      <td>2.759621e+06</td>\n",
       "    </tr>\n",
       "  </tbody>\n",
       "</table>\n",
       "</div>"
      ],
      "text/plain": [
       "       averageRating      numVotes\n",
       "count   1.326238e+06  1.326238e+06\n",
       "mean    6.954723e+00  1.038466e+03\n",
       "std     1.382464e+00  1.747237e+04\n",
       "min     1.000000e+00  5.000000e+00\n",
       "25%     6.200000e+00  1.100000e+01\n",
       "50%     7.100000e+00  2.600000e+01\n",
       "75%     7.900000e+00  1.010000e+02\n",
       "max     1.000000e+01  2.759621e+06"
      ]
     },
     "execution_count": 17,
     "metadata": {},
     "output_type": "execute_result"
    }
   ],
   "source": [
    "df.describe() "
   ]
  },
  {
   "cell_type": "code",
   "execution_count": 19,
   "id": "4428e584",
   "metadata": {},
   "outputs": [
    {
     "data": {
      "image/png": "[encoded data removed]",
      "text/plain": [
       "<Figure size 432x288 with 1 Axes>"
      ]
     },
     "metadata": {
      "needs_background": "light"
     },
     "output_type": "display_data"
    }
   ],
   "source": [
    "import matplotlib.pyplot as plt\n",
    "\n",
    "# Split the combined column into separate columns\n",
    "#df[['tconst', 'averageRating', 'numVotes']] = df['tconst\\taverageRating\\tnumVotes'].str.split('\\t', expand=True)\n",
    "\n",
    "# Convert numerical columns to appropriate data types if necessary\n",
    "df['averageRating'] = df['averageRating'].astype(float)\n",
    "df['numVotes'] = df['numVotes'].astype(int)\n",
    "\n",
    "# Plot a scatter plot of averageRating vs numVotes\n",
    "plt.scatter(df['averageRating'], df['numVotes'])\n",
    "plt.xlabel('averageRating')\n",
    "plt.ylabel('numVotes')\n",
    "plt.title('Distribution of Movie Ratings')\n",
    "plt.show()"
   ]
  },
  {
   "cell_type": "code",
   "execution_count": null,
   "id": "0406010c",
   "metadata": {},
   "outputs": [],
   "source": []
  }
 ],
 "metadata": {
  "kernelspec": {
   "display_name": "Python 3 (ipykernel)",
   "language": "python",
   "name": "python3"
  },
  "language_info": {
   "codemirror_mode": {
    "name": "ipython",
    "version": 3
   },
   "file_extension": ".py",
   "mimetype": "text/x-python",
   "name": "python",
   "nbconvert_exporter": "python",
   "pygments_lexer": "ipython3",
   "version": "3.9.12"
  }
 },
 "nbformat": 4,
 "nbformat_minor": 5
}
